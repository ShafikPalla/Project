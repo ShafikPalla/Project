{
 "cells": [
  {
   "cell_type": "code",
   "execution_count": 1,
   "id": "d175bc7d",
   "metadata": {},
   "outputs": [
    {
     "name": "stdout",
     "output_type": "stream",
     "text": [
      "Ac number is :1 and Balance is : 0\n"
     ]
    }
   ],
   "source": [
    "class Accounts:\n",
    "    counter=0\n",
    "    def __init__(self,opening_bal=0):\n",
    "        Accounts.counter= Accounts.counter+1\n",
    "        self.id=Accounts.counter\n",
    "        self.bal=opening_bal\n",
    "        \n",
    "    def deposit(self,amount):\n",
    "        self.bal=self.bal+amount\n",
    "    def withdrow(self,amount):\n",
    "        self.bal=self.bal-amount\n",
    "    def __str__ (self):\n",
    "        return \"Ac number is :{} and Balance is : {}\".format(self.id,self.bal)\n",
    "\n",
    "a1=Accounts()\n",
    "print(a1)"
   ]
  },
  {
   "cell_type": "code",
   "execution_count": 2,
   "id": "7a7514bd",
   "metadata": {},
   "outputs": [
    {
     "name": "stdout",
     "output_type": "stream",
     "text": [
      "Ac number is :2 and Balance is : 0\n"
     ]
    }
   ],
   "source": [
    "a2=Accounts()\n",
    "print(a2)\n"
   ]
  },
  {
   "cell_type": "code",
   "execution_count": 3,
   "id": "4c930de3",
   "metadata": {},
   "outputs": [
    {
     "name": "stdout",
     "output_type": "stream",
     "text": [
      "Ac number is :3 and Balance is : 10000\n"
     ]
    }
   ],
   "source": [
    "a3=Accounts()\n",
    "a3.deposit(10000)\n",
    "print(a3)"
   ]
  },
  {
   "cell_type": "code",
   "execution_count": 4,
   "id": "f889d23a",
   "metadata": {},
   "outputs": [
    {
     "name": "stdout",
     "output_type": "stream",
     "text": [
      "Ac number is :3 and Balance is : 15000\n"
     ]
    }
   ],
   "source": [
    "a3.deposit(5000)\n",
    "print(a3)"
   ]
  },
  {
   "cell_type": "code",
   "execution_count": 5,
   "id": "fd73adbe",
   "metadata": {},
   "outputs": [
    {
     "name": "stdout",
     "output_type": "stream",
     "text": [
      "Ac number is :3 and Balance is : 14000\n"
     ]
    }
   ],
   "source": [
    "a3.withdrow(1000)\n",
    "print(a3)"
   ]
  },
  {
   "cell_type": "code",
   "execution_count": 6,
   "id": "62a5b08a",
   "metadata": {},
   "outputs": [
    {
     "name": "stdout",
     "output_type": "stream",
     "text": [
      "Ac number is :2 and Balance is : -2000\n"
     ]
    }
   ],
   "source": [
    "a2.withdrow(2000)\n",
    "print(a2)"
   ]
  },
  {
   "cell_type": "code",
   "execution_count": 7,
   "id": "f04d037f",
   "metadata": {},
   "outputs": [
    {
     "name": "stdout",
     "output_type": "stream",
     "text": [
      "Ac number is :2 and Balance is : -2000\n"
     ]
    }
   ],
   "source": [
    "print(a2)"
   ]
  },
  {
   "cell_type": "code",
   "execution_count": 8,
   "id": "22f44b6b",
   "metadata": {},
   "outputs": [
    {
     "name": "stdout",
     "output_type": "stream",
     "text": [
      "Ac number is :2 and Balance is : 8000\n"
     ]
    }
   ],
   "source": [
    "a2.deposit(10000)\n",
    "print(a2)"
   ]
  },
  {
   "cell_type": "code",
   "execution_count": 9,
   "id": "8cb43fea",
   "metadata": {},
   "outputs": [
    {
     "name": "stdout",
     "output_type": "stream",
     "text": [
      "Ac number is :2 and Balance is : 5000\n"
     ]
    }
   ],
   "source": [
    "a2.withdrow(3000)\n",
    "print(a2)"
   ]
  },
  {
   "cell_type": "code",
   "execution_count": 10,
   "id": "666a779c",
   "metadata": {},
   "outputs": [
    {
     "name": "stdout",
     "output_type": "stream",
     "text": [
      "Ac number is :4 and Balance is : 0\n"
     ]
    }
   ],
   "source": [
    "A5=Accounts()\n",
    "print(A5)"
   ]
  },
  {
   "cell_type": "code",
   "execution_count": 11,
   "id": "0913f755",
   "metadata": {},
   "outputs": [
    {
     "name": "stdout",
     "output_type": "stream",
     "text": [
      "Ac number is :1 and Balance is : 0\n",
      "Ac number is :2 and Balance is : 5000\n",
      "Ac number is :3 and Balance is : 14000\n",
      "Ac number is :4 and Balance is : 0\n"
     ]
    }
   ],
   "source": [
    "print(a1)\n",
    "print(a2)\n",
    "print(a3)\n",
    "print(A5)"
   ]
  },
  {
   "cell_type": "code",
   "execution_count": 12,
   "id": "9251dd0d",
   "metadata": {},
   "outputs": [
    {
     "name": "stdout",
     "output_type": "stream",
     "text": [
      "Ac number is :2 and Balance is : -1000\n"
     ]
    }
   ],
   "source": [
    "a2.withdrow(6000)\n",
    "print(a2)"
   ]
  },
  {
   "cell_type": "code",
   "execution_count": 13,
   "id": "21eec4c4",
   "metadata": {},
   "outputs": [],
   "source": [
    "class Accounts:\n",
    "    counter=0\n",
    "    def __init__(self,opening_bal=0):\n",
    "        Accounts.counter=Accounts.counter+1\n",
    "        self.id=Accounts.counter\n",
    "        self.bal=opening_bal\n",
    "        \n",
    "    def deposit(self,amount):\n",
    "        if amount>0:\n",
    "            self.bal=self.bal+amount\n",
    "    def withdrow(self,amount):\n",
    "        if amount>0 and self.bal>amount:\n",
    "            self.bal=self.bal-amount\n",
    "        if amount>0 and self.bal<amount:\n",
    "            print(\"LOW Balance in Your Account\")\n",
    "    def __str__(self):\n",
    "        return \"AC number is : {} and Balance is : {}\".format(self.id,self.bal)\n",
    "    \n",
    "        \n",
    "        "
   ]
  },
  {
   "cell_type": "code",
   "execution_count": 14,
   "id": "514f9e36",
   "metadata": {},
   "outputs": [
    {
     "name": "stdout",
     "output_type": "stream",
     "text": [
      "AC number is : 1 and Balance is : 0\n"
     ]
    }
   ],
   "source": [
    "A1=Accounts()\n",
    "print(A1)\n"
   ]
  },
  {
   "cell_type": "code",
   "execution_count": 15,
   "id": "d3bdd694",
   "metadata": {},
   "outputs": [
    {
     "name": "stdout",
     "output_type": "stream",
     "text": [
      "AC number is : 1 and Balance is : 1000\n"
     ]
    }
   ],
   "source": [
    "A1.deposit(1000)\n",
    "print(A1)"
   ]
  },
  {
   "cell_type": "code",
   "execution_count": 16,
   "id": "65322ca2",
   "metadata": {},
   "outputs": [
    {
     "name": "stdout",
     "output_type": "stream",
     "text": [
      "AC number is : 1 and Balance is : 500\n"
     ]
    }
   ],
   "source": [
    "A1.withdrow(500)\n",
    "print(A1)"
   ]
  },
  {
   "cell_type": "code",
   "execution_count": 17,
   "id": "fbdd0f2a",
   "metadata": {},
   "outputs": [
    {
     "name": "stdout",
     "output_type": "stream",
     "text": [
      "LOW Balance in Your Account\n",
      "AC number is : 1 and Balance is : 500\n"
     ]
    }
   ],
   "source": [
    "A1.withdrow(1000)\n",
    "print(A1)"
   ]
  },
  {
   "cell_type": "code",
   "execution_count": 18,
   "id": "76fb4e0f",
   "metadata": {},
   "outputs": [
    {
     "name": "stdout",
     "output_type": "stream",
     "text": [
      "LOW Balance in Your Account\n",
      "AC number is : 1 and Balance is : 500\n"
     ]
    }
   ],
   "source": [
    "A1.withdrow(2000)\n",
    "print(A1)"
   ]
  },
  {
   "cell_type": "code",
   "execution_count": 19,
   "id": "37bb658a",
   "metadata": {},
   "outputs": [
    {
     "name": "stdout",
     "output_type": "stream",
     "text": [
      "AC number is : 1 and Balance is : 400\n"
     ]
    }
   ],
   "source": [
    "A1.withdrow(100)\n",
    "print(A1)"
   ]
  },
  {
   "cell_type": "code",
   "execution_count": null,
   "id": "8815b7ed",
   "metadata": {},
   "outputs": [],
   "source": []
  }
 ],
 "metadata": {
  "kernelspec": {
   "display_name": "Python 3 (ipykernel)",
   "language": "python",
   "name": "python3"
  },
  "language_info": {
   "codemirror_mode": {
    "name": "ipython",
    "version": 3
   },
   "file_extension": ".py",
   "mimetype": "text/x-python",
   "name": "python",
   "nbconvert_exporter": "python",
   "pygments_lexer": "ipython3",
   "version": "3.9.13"
  }
 },
 "nbformat": 4,
 "nbformat_minor": 5
}
