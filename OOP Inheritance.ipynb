{
 "cells": [
  {
   "cell_type": "code",
   "execution_count": 1,
   "id": "48894d8a",
   "metadata": {},
   "outputs": [],
   "source": [
    "# add more features to the accounts\n",
    "# limitint the numbe of TX to max 5\n",
    "\n",
    "class Account:\n",
    "    counter=0\n",
    "    def __init__(self,opening_bal=0):\n",
    "        Account.counter=Account.counter+1\n",
    "        self.id=Account.counter\n",
    "        self.bal=opening_bal\n",
    "        self.num_transactions=0\n",
    "        self.max_transactions=6\n",
    "        \n",
    "    def deposit(self,amount):\n",
    "        if amount>0 and self.num_transactions<self.max_transactions:\n",
    "            self.bal=self.bal+amount\n",
    "            self.num_transactions=self.num_transactions+1\n",
    "    def withdraw(self,amount):\n",
    "        if amount>0 and self.bal>=amount and self.num_transactions<self.max_transactions:\n",
    "            self.bal=self.bal-amount\n",
    "            self.num_transactions=self.num_transactions+1\n",
    "    def __str__(self):\n",
    "        return \"AC number is : {} and Balance is Rs. {} and no of TX is : {}\".format(self.id,self.bal,self.num_transactions)\n",
    "class SavingAccount(Account):\n",
    "    pass\n",
    "class CurrentAccount(Account):\n",
    "    pass\n",
    "sa1=SavingAccount()\n",
    "ca1=CurrentAccount()\n",
    "        "
   ]
  },
  {
   "cell_type": "code",
   "execution_count": 2,
   "id": "a69bbc40",
   "metadata": {},
   "outputs": [
    {
     "name": "stdout",
     "output_type": "stream",
     "text": [
      "AC number is : 1 and Balance is Rs. 1200 and no of TX is : 1\n"
     ]
    }
   ],
   "source": [
    "sa1.deposit(1200)\n",
    "print(sa1)"
   ]
  },
  {
   "cell_type": "code",
   "execution_count": 3,
   "id": "933ed8fe",
   "metadata": {},
   "outputs": [
    {
     "name": "stdout",
     "output_type": "stream",
     "text": [
      "AC number is : 1 and Balance is Rs. 2000 and no of TX is : 2\n"
     ]
    }
   ],
   "source": [
    "sa1.deposit(800)\n",
    "print(sa1)"
   ]
  },
  {
   "cell_type": "code",
   "execution_count": 4,
   "id": "009acf35",
   "metadata": {},
   "outputs": [
    {
     "name": "stdout",
     "output_type": "stream",
     "text": [
      "AC number is : 1 and Balance is Rs. 3000 and no of TX is : 3\n"
     ]
    }
   ],
   "source": [
    "sa1.deposit(1000)\n",
    "print(sa1)"
   ]
  },
  {
   "cell_type": "code",
   "execution_count": 5,
   "id": "00efe6cb",
   "metadata": {},
   "outputs": [
    {
     "name": "stdout",
     "output_type": "stream",
     "text": [
      "AC number is : 1 and Balance is Rs. 4500 and no of TX is : 4\n"
     ]
    }
   ],
   "source": [
    "sa1.deposit(1500)\n",
    "print(sa1)"
   ]
  },
  {
   "cell_type": "code",
   "execution_count": 6,
   "id": "a872f60f",
   "metadata": {},
   "outputs": [
    {
     "name": "stdout",
     "output_type": "stream",
     "text": [
      "AC number is : 1 and Balance is Rs. 3500 and no of TX is : 5\n"
     ]
    }
   ],
   "source": [
    "sa1.withdraw(1000)\n",
    "print(sa1)"
   ]
  },
  {
   "cell_type": "code",
   "execution_count": 7,
   "id": "003810e4",
   "metadata": {},
   "outputs": [
    {
     "name": "stdout",
     "output_type": "stream",
     "text": [
      "AC number is : 1 and Balance is Rs. 2000 and no of TX is : 6\n"
     ]
    }
   ],
   "source": [
    "sa1.withdraw(1500)\n",
    "print(sa1)"
   ]
  },
  {
   "cell_type": "code",
   "execution_count": 8,
   "id": "ba16eda1",
   "metadata": {},
   "outputs": [
    {
     "name": "stdout",
     "output_type": "stream",
     "text": [
      "AC number is : 1 and Balance is Rs. 2000 and no of TX is : 6\n"
     ]
    }
   ],
   "source": [
    "sa1.withdraw(1000)\n",
    "print(sa1)"
   ]
  },
  {
   "cell_type": "code",
   "execution_count": 9,
   "id": "7146c613",
   "metadata": {},
   "outputs": [
    {
     "name": "stdout",
     "output_type": "stream",
     "text": [
      "AC number is : 1 and Balance is Rs. 2000 and no of TX is : 6\n"
     ]
    }
   ],
   "source": [
    "sa1.withdraw(1000)\n",
    "print(sa1)"
   ]
  },
  {
   "cell_type": "code",
   "execution_count": 10,
   "id": "333ec857",
   "metadata": {},
   "outputs": [
    {
     "name": "stdout",
     "output_type": "stream",
     "text": [
      "AC number is : 2 and Balance is Rs. 5000 and no of TX is : 1\n"
     ]
    }
   ],
   "source": [
    "ca1.deposit(5000)\n",
    "print(ca1)"
   ]
  },
  {
   "cell_type": "code",
   "execution_count": 11,
   "id": "acf33889",
   "metadata": {},
   "outputs": [],
   "source": [
    "# changing no of max trx for current account\n"
   ]
  },
  {
   "cell_type": "code",
   "execution_count": 12,
   "id": "155a7406",
   "metadata": {},
   "outputs": [
    {
     "name": "stdout",
     "output_type": "stream",
     "text": [
      "AC number is : 3 and Balance is Rs. 0 and no of TX is : 0\n"
     ]
    }
   ],
   "source": [
    "ca2=CurrentAccount()\n",
    "print(ca2)"
   ]
  },
  {
   "cell_type": "code",
   "execution_count": 13,
   "id": "ef94ab24",
   "metadata": {},
   "outputs": [
    {
     "name": "stdout",
     "output_type": "stream",
     "text": [
      "AC number is : 3 and Balance is Rs. 200 and no of TX is : 1\n"
     ]
    }
   ],
   "source": [
    "ca2.deposit(200)\n",
    "print(ca2)"
   ]
  },
  {
   "cell_type": "code",
   "execution_count": 14,
   "id": "633bec5c",
   "metadata": {},
   "outputs": [
    {
     "name": "stdout",
     "output_type": "stream",
     "text": [
      "AC number is : 3 and Balance is Rs. 300 and no of TX is : 2\n"
     ]
    }
   ],
   "source": [
    "ca2.deposit(100)\n",
    "print(ca2)"
   ]
  },
  {
   "cell_type": "code",
   "execution_count": 15,
   "id": "0bb76cfa",
   "metadata": {},
   "outputs": [
    {
     "name": "stdout",
     "output_type": "stream",
     "text": [
      "AC number is : 3 and Balance is Rs. 600 and no of TX is : 3\n"
     ]
    }
   ],
   "source": [
    "ca2.deposit(300)\n",
    "print(ca2)"
   ]
  },
  {
   "cell_type": "code",
   "execution_count": 16,
   "id": "2a2e159d",
   "metadata": {},
   "outputs": [
    {
     "name": "stdout",
     "output_type": "stream",
     "text": [
      "AC number is : 3 and Balance is Rs. 1000 and no of TX is : 4\n"
     ]
    }
   ],
   "source": [
    "ca2.deposit(400)\n",
    "print(ca2)"
   ]
  },
  {
   "cell_type": "code",
   "execution_count": 17,
   "id": "9eb0eb2f",
   "metadata": {},
   "outputs": [
    {
     "name": "stdout",
     "output_type": "stream",
     "text": [
      "AC number is : 3 and Balance is Rs. 800 and no of TX is : 5\n"
     ]
    }
   ],
   "source": [
    "ca2.withdraw(200)\n",
    "print(ca2)"
   ]
  },
  {
   "cell_type": "code",
   "execution_count": 22,
   "id": "06e51c8f",
   "metadata": {},
   "outputs": [],
   "source": [
    "class Account:\n",
    "    counter=0\n",
    "    def __init__(self,opening_bal=0):\n",
    "        Account.counter=Account.counter+1\n",
    "        self.id=Account.counter\n",
    "        self.bal=opening_bal\n",
    "        self.num_transactions=0\n",
    "        self.max_transactions=6\n",
    "        \n",
    "    def deposit(self,amount):\n",
    "        if amount>0 and self.num_transactions<self.max_transactions:\n",
    "            self.bal=self.bal+amount\n",
    "            self.num_transactions=self.num_transactions+1\n",
    "    def withdraw(self,amount):\n",
    "        if amount>0 and self.bal>=amount and self.num_transactions<self.max_transactions:\n",
    "            self.bal=self.bal-amount\n",
    "            self.num_transactions=self.num_transactions+1\n",
    "    def __str__(self):\n",
    "        return \"AC number is : {} and Balance is Rs. {} and no of TX is : {}\".format(self.id,self.bal,self.num_transactions)\n",
    "class SavingAccount(Account):\n",
    "    pass\n",
    "class CurrentAccount(Account):\n",
    "    def __init(self):\n",
    "        super().__init__(self)\n",
    "        self.max_transactions=2\n",
    "        \n"
   ]
  },
  {
   "cell_type": "code",
   "execution_count": 23,
   "id": "bf23f23c",
   "metadata": {},
   "outputs": [
    {
     "name": "stdout",
     "output_type": "stream",
     "text": [
      "AC number is : 1 and Balance is Rs. 0 and no of TX is : 0\n"
     ]
    }
   ],
   "source": [
    "Ca5=CurrentAccount()\n",
    "print(Ca5)"
   ]
  },
  {
   "cell_type": "code",
   "execution_count": 24,
   "id": "87f08c4e",
   "metadata": {},
   "outputs": [
    {
     "name": "stdout",
     "output_type": "stream",
     "text": [
      "AC number is : 1 and Balance is Rs. 500 and no of TX is : 1\n"
     ]
    }
   ],
   "source": [
    "Ca5.deposit(500)\n",
    "print(Ca5)"
   ]
  },
  {
   "cell_type": "code",
   "execution_count": 25,
   "id": "fe2dd824",
   "metadata": {},
   "outputs": [
    {
     "name": "stdout",
     "output_type": "stream",
     "text": [
      "AC number is : 1 and Balance is Rs. 1000 and no of TX is : 2\n"
     ]
    }
   ],
   "source": [
    "Ca5.deposit(500)\n",
    "print(Ca5)"
   ]
  },
  {
   "cell_type": "code",
   "execution_count": 26,
   "id": "0139157d",
   "metadata": {},
   "outputs": [
    {
     "name": "stdout",
     "output_type": "stream",
     "text": [
      "AC number is : 1 and Balance is Rs. 1500 and no of TX is : 3\n"
     ]
    }
   ],
   "source": [
    "Ca5.deposit(500)\n",
    "print(Ca5)"
   ]
  },
  {
   "cell_type": "code",
   "execution_count": 30,
   "id": "694ffebe",
   "metadata": {},
   "outputs": [
    {
     "name": "stdout",
     "output_type": "stream",
     "text": [
      "AC number is : 1 and Balance is Rs. 3000 and no of TX is : 6\n"
     ]
    }
   ],
   "source": [
    "Ca5.deposit(500)\n",
    "print(Ca5)"
   ]
  },
  {
   "cell_type": "code",
   "execution_count": null,
   "id": "96720934",
   "metadata": {},
   "outputs": [],
   "source": []
  }
 ],
 "metadata": {
  "kernelspec": {
   "display_name": "Python 3 (ipykernel)",
   "language": "python",
   "name": "python3"
  },
  "language_info": {
   "codemirror_mode": {
    "name": "ipython",
    "version": 3
   },
   "file_extension": ".py",
   "mimetype": "text/x-python",
   "name": "python",
   "nbconvert_exporter": "python",
   "pygments_lexer": "ipython3",
   "version": "3.9.13"
  }
 },
 "nbformat": 4,
 "nbformat_minor": 5
}
