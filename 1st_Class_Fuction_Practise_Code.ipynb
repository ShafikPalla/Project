{
 "cells": [
  {
   "cell_type": "code",
   "execution_count": 1,
   "id": "5667793a",
   "metadata": {},
   "outputs": [
    {
     "name": "stdout",
     "output_type": "stream",
     "text": [
      "625\n"
     ]
    }
   ],
   "source": [
    "#First Class Functions in paython\n",
    "\n",
    "\n",
    "def sq(x):\n",
    "    print(x*x)\n",
    "    \n",
    "sq(25)\n",
    "\n"
   ]
  },
  {
   "cell_type": "code",
   "execution_count": 2,
   "id": "a54a9f06",
   "metadata": {},
   "outputs": [
    {
     "name": "stdout",
     "output_type": "stream",
     "text": [
      "625\n"
     ]
    }
   ],
   "source": [
    "funs=sq\n",
    "\n",
    "funs(25)"
   ]
  },
  {
   "cell_type": "code",
   "execution_count": 4,
   "id": "7b6936f5",
   "metadata": {},
   "outputs": [
    {
     "name": "stdout",
     "output_type": "stream",
     "text": [
      "AMOL\n",
      "Amol\n"
     ]
    }
   ],
   "source": [
    "#Function as an argument to another function\n",
    "\n",
    "def upper(a):\n",
    "    return a.upper()\n",
    "print(upper(\"amol\"))\n",
    "\n",
    "def title(a):\n",
    "    return a.title()\n",
    "print(title(\"amol\"))\n",
    "    \n"
   ]
  },
  {
   "cell_type": "code",
   "execution_count": 7,
   "id": "2e0cdccc",
   "metadata": {},
   "outputs": [
    {
     "name": "stdout",
     "output_type": "stream",
     "text": [
      "BURHAN\n",
      "Burhan\n"
     ]
    }
   ],
   "source": [
    "def make_upper(func,value):\n",
    "    print(func(value))\n",
    "    \n",
    "    \n",
    "make_upper(upper,\"burhan\")\n",
    "make_upper(title,\"burhan\")"
   ]
  },
  {
   "cell_type": "code",
   "execution_count": 8,
   "id": "707cf328",
   "metadata": {},
   "outputs": [
    {
     "name": "stdout",
     "output_type": "stream",
     "text": [
      "ZAKWAN\n",
      "Zakwan\n"
     ]
    }
   ],
   "source": [
    "def case_change(func1,func2,c):\n",
    "    print(func1(c))\n",
    "    print(func2(c))\n",
    "    \n",
    "case_change(upper,title,'zakwan')"
   ]
  },
  {
   "cell_type": "code",
   "execution_count": 9,
   "id": "654a3857",
   "metadata": {},
   "outputs": [
    {
     "name": "stdout",
     "output_type": "stream",
     "text": [
      "['Zakwan07', 'gmail.com']\n",
      "['Zakwan07@gmail', 'com']\n"
     ]
    }
   ],
   "source": [
    "def split(x):\n",
    "    print(x.split(\"@\"))\n",
    "    print(x.split(\".\"))\n",
    "    \n",
    "split(\"Zakwan07@gmail.com\")"
   ]
  },
  {
   "cell_type": "code",
   "execution_count": null,
   "id": "c459bb40",
   "metadata": {},
   "outputs": [],
   "source": []
  }
 ],
 "metadata": {
  "kernelspec": {
   "display_name": "Python 3 (ipykernel)",
   "language": "python",
   "name": "python3"
  },
  "language_info": {
   "codemirror_mode": {
    "name": "ipython",
    "version": 3
   },
   "file_extension": ".py",
   "mimetype": "text/x-python",
   "name": "python",
   "nbconvert_exporter": "python",
   "pygments_lexer": "ipython3",
   "version": "3.9.13"
  }
 },
 "nbformat": 4,
 "nbformat_minor": 5
}
