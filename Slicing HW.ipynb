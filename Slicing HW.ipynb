{
 "cells": [
  {
   "cell_type": "code",
   "execution_count": null,
   "id": "f3e07b79",
   "metadata": {},
   "outputs": [],
   "source": [
    "# /HW\n",
    "1. # slice the array to get below name\n",
    "s = np.array([['Priya', 'Rohit', 'Aryan'],\n",
    "       ['Neha', 'Avni', 'Akash'],\n",
    "       ['Arjun', 'Riya', 'Devanshi']])\n",
    "\n",
    "\n",
    "1. 'Priya', 'Rohit', 'Aryan'\n",
    "2. 'Riya','Devanshi'\n",
    "3. 'Neha', 'Avni', 'Akash' 'Arjun', 'Riya', 'Devanshi'\n",
    "4. 'Avni'\n",
    "5. 'Neha'\n",
    "\n",
    "2. Use masking to get the values\n",
    "score = np.random.randint(10,100,15).reshape(5,3)\n",
    "1. find all scores > 50\n",
    "2. find all scores <35"
   ]
  },
  {
   "cell_type": "code",
   "execution_count": 4,
   "id": "302dd934",
   "metadata": {},
   "outputs": [],
   "source": [
    "import numpy as np"
   ]
  },
  {
   "cell_type": "code",
   "execution_count": 5,
   "id": "f532d7f8",
   "metadata": {},
   "outputs": [],
   "source": [
    "s = np.array([['Priya', 'Rohit', 'Aryan'],\n",
    "       ['Neha', 'Avni', 'Akash'],\n",
    "       ['Arjun', 'Riya', 'Devanshi']])"
   ]
  },
  {
   "cell_type": "code",
   "execution_count": 6,
   "id": "f9f2fcd9",
   "metadata": {},
   "outputs": [
    {
     "data": {
      "text/plain": [
       "array([['Priya', 'Rohit', 'Aryan'],\n",
       "       ['Neha', 'Avni', 'Akash'],\n",
       "       ['Arjun', 'Riya', 'Devanshi']], dtype='<U8')"
      ]
     },
     "execution_count": 6,
     "metadata": {},
     "output_type": "execute_result"
    }
   ],
   "source": [
    "s"
   ]
  },
  {
   "cell_type": "code",
   "execution_count": 10,
   "id": "7d48c9f6",
   "metadata": {},
   "outputs": [
    {
     "data": {
      "text/plain": [
       "array(['Priya', 'Rohit', 'Aryan'], dtype='<U8')"
      ]
     },
     "execution_count": 10,
     "metadata": {},
     "output_type": "execute_result"
    }
   ],
   "source": [
    "s[0][0:3]"
   ]
  },
  {
   "cell_type": "code",
   "execution_count": 11,
   "id": "288e0f81",
   "metadata": {},
   "outputs": [
    {
     "data": {
      "text/plain": [
       "array(['Priya', 'Rohit', 'Aryan'], dtype='<U8')"
      ]
     },
     "execution_count": 11,
     "metadata": {},
     "output_type": "execute_result"
    }
   ],
   "source": [
    "s[0]"
   ]
  },
  {
   "cell_type": "code",
   "execution_count": 12,
   "id": "cef7a3e8",
   "metadata": {},
   "outputs": [
    {
     "data": {
      "text/plain": [
       "array(['Riya', 'Devanshi'], dtype='<U8')"
      ]
     },
     "execution_count": 12,
     "metadata": {},
     "output_type": "execute_result"
    }
   ],
   "source": [
    "s[2][1:]"
   ]
  },
  {
   "cell_type": "code",
   "execution_count": 15,
   "id": "e7419487",
   "metadata": {},
   "outputs": [
    {
     "data": {
      "text/plain": [
       "array([['Neha', 'Avni', 'Akash'],\n",
       "       ['Arjun', 'Riya', 'Devanshi']], dtype='<U8')"
      ]
     },
     "execution_count": 15,
     "metadata": {},
     "output_type": "execute_result"
    }
   ],
   "source": [
    "s[1:][0:]"
   ]
  },
  {
   "cell_type": "code",
   "execution_count": 17,
   "id": "b2fecd38",
   "metadata": {},
   "outputs": [
    {
     "data": {
      "text/plain": [
       "'Avni'"
      ]
     },
     "execution_count": 17,
     "metadata": {},
     "output_type": "execute_result"
    }
   ],
   "source": [
    "s[1][1]"
   ]
  },
  {
   "cell_type": "code",
   "execution_count": 18,
   "id": "85b51be1",
   "metadata": {},
   "outputs": [
    {
     "data": {
      "text/plain": [
       "'Neha'"
      ]
     },
     "execution_count": 18,
     "metadata": {},
     "output_type": "execute_result"
    }
   ],
   "source": [
    "s[1][0]"
   ]
  },
  {
   "cell_type": "code",
   "execution_count": 19,
   "id": "f1e3282a",
   "metadata": {},
   "outputs": [],
   "source": [
    "score = np.random.randint(10,100,15).reshape(5,3)\n"
   ]
  },
  {
   "cell_type": "code",
   "execution_count": 24,
   "id": "a94af08e",
   "metadata": {},
   "outputs": [],
   "source": [
    "arr1=score"
   ]
  },
  {
   "cell_type": "code",
   "execution_count": 26,
   "id": "655a1dcd",
   "metadata": {},
   "outputs": [
    {
     "data": {
      "text/plain": [
       "array([74, 73, 80, 54, 67, 64, 97, 67])"
      ]
     },
     "execution_count": 26,
     "metadata": {},
     "output_type": "execute_result"
    }
   ],
   "source": [
    "arr1[(score>50)]"
   ]
  },
  {
   "cell_type": "code",
   "execution_count": 28,
   "id": "2995053b",
   "metadata": {},
   "outputs": [
    {
     "data": {
      "text/plain": [
       "array([24, 17, 15, 34, 17, 25])"
      ]
     },
     "execution_count": 28,
     "metadata": {},
     "output_type": "execute_result"
    }
   ],
   "source": [
    "arr1[(score<35)]"
   ]
  },
  {
   "cell_type": "code",
   "execution_count": null,
   "id": "4227943b",
   "metadata": {},
   "outputs": [],
   "source": []
  }
 ],
 "metadata": {
  "kernelspec": {
   "display_name": "Python 3 (ipykernel)",
   "language": "python",
   "name": "python3"
  },
  "language_info": {
   "codemirror_mode": {
    "name": "ipython",
    "version": 3
   },
   "file_extension": ".py",
   "mimetype": "text/x-python",
   "name": "python",
   "nbconvert_exporter": "python",
   "pygments_lexer": "ipython3",
   "version": "3.9.13"
  }
 },
 "nbformat": 4,
 "nbformat_minor": 5
}
