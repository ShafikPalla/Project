{
 "cells": [
  {
   "cell_type": "code",
   "execution_count": 1,
   "id": "0794d6bc",
   "metadata": {},
   "outputs": [],
   "source": [
    "import numpy as np"
   ]
  },
  {
   "cell_type": "code",
   "execution_count": 2,
   "id": "bf7c88f8",
   "metadata": {},
   "outputs": [],
   "source": [
    "data = np.loadtxt('fitbit.txt',dtype='str')"
   ]
  },
  {
   "cell_type": "code",
   "execution_count": 3,
   "id": "7c8df23c",
   "metadata": {},
   "outputs": [
    {
     "data": {
      "text/plain": [
       "array([['6/10/2017', '5464', '200', '181', '6', '0', '68'],\n",
       "       ['7/10/2017', '7167', '200', '208', '6', '0', '68'],\n",
       "       ['8/10/2017', '9874', '300', '341', '5', '0', '68'],\n",
       "       ['9/10/2017', '4969', '100', '190', '8', '0', '68'],\n",
       "       ['10/10/2017', '8538', '300', '307', '5', '0', '68'],\n",
       "       ['11/10/2017', '9875', '300', '302', '5', '0', '68'],\n",
       "       ['12/10/2017', '4662', '100', '198', '8', '0', '68'],\n",
       "       ['13-10-2017', '6310', '200', '201', '6', '0', '68'],\n",
       "       ['14-10-2017', '7556', '200', '195', '6', '0', '68'],\n",
       "       ['15-10-2017', '9073', '300', '327', '5', '0', '68'],\n",
       "       ['16-10-2017', '9690', '300', '331', '5', '0', '68'],\n",
       "       ['17-10-2017', '9146', '300', '318', '5', '0', '68'],\n",
       "       ['18-10-2017', '9752', '300', '344', '5', '0', '68'],\n",
       "       ['19-10-2017', '6974', '200', '204', '6', '0', '68'],\n",
       "       ['20-10-2017', '5619', '200', '180', '6', '0', '68'],\n",
       "       ['21-10-2017', '6889', '200', '201', '6', '0', '68'],\n",
       "       ['22-10-2017', '8616', '300', '329', '5', '0', '68'],\n",
       "       ['23-10-2017', '9131', '300', '315', '5', '0', '68'],\n",
       "       ['24-10-2017', '4211', '100', '197', '8', '0', '68'],\n",
       "       ['25-10-2017', '4291', '100', '184', '8', '0', '68'],\n",
       "       ['26-10-2017', '8569', '300', '328', '5', '0', '68'],\n",
       "       ['27-10-2017', '9337', '300', '322', '5', '0', '68'],\n",
       "       ['28-10-2017', '8475', '300', '327', '5', '0', '68'],\n",
       "       ['29-10-2017', '4510', '100', '148', '8', '0', '68'],\n",
       "       ['30-10-2017', '6347', '200', '235', '6', '0', '68'],\n",
       "       ['31-10-2017', '5911', '200', '184', '6', '0', '68']], dtype='<U10')"
      ]
     },
     "execution_count": 3,
     "metadata": {},
     "output_type": "execute_result"
    }
   ],
   "source": [
    "data"
   ]
  },
  {
   "cell_type": "code",
   "execution_count": 4,
   "id": "d787da57",
   "metadata": {},
   "outputs": [
    {
     "data": {
      "text/plain": [
       "numpy.ndarray"
      ]
     },
     "execution_count": 4,
     "metadata": {},
     "output_type": "execute_result"
    }
   ],
   "source": [
    "type(data)"
   ]
  },
  {
   "cell_type": "code",
   "execution_count": 5,
   "id": "6e65a12d",
   "metadata": {},
   "outputs": [
    {
     "data": {
      "text/plain": [
       "(26, 7)"
      ]
     },
     "execution_count": 5,
     "metadata": {},
     "output_type": "execute_result"
    }
   ],
   "source": [
    "data.shape"
   ]
  },
  {
   "cell_type": "code",
   "execution_count": 6,
   "id": "b9998377",
   "metadata": {},
   "outputs": [
    {
     "data": {
      "text/plain": [
       "array(['6/10/2017', '5464', '200', '181', '6', '0', '68'], dtype='<U10')"
      ]
     },
     "execution_count": 6,
     "metadata": {},
     "output_type": "execute_result"
    }
   ],
   "source": [
    "data[0]"
   ]
  },
  {
   "cell_type": "code",
   "execution_count": 7,
   "id": "5d000ed6",
   "metadata": {},
   "outputs": [
    {
     "data": {
      "text/plain": [
       "array(['7/10/2017', '7167', '200', '208', '6', '0', '68'], dtype='<U10')"
      ]
     },
     "execution_count": 7,
     "metadata": {},
     "output_type": "execute_result"
    }
   ],
   "source": [
    "data[1]"
   ]
  },
  {
   "cell_type": "markdown",
   "id": "23afa646",
   "metadata": {},
   "source": [
    "Data Cleaning"
   ]
  },
  {
   "cell_type": "code",
   "execution_count": 8,
   "id": "e3c4f9cd",
   "metadata": {},
   "outputs": [],
   "source": [
    "# data has no header\n",
    "# data is in the form of string , cant be numerically compared\n",
    "\n"
   ]
  },
  {
   "cell_type": "code",
   "execution_count": 10,
   "id": "f834b000",
   "metadata": {},
   "outputs": [
    {
     "data": {
      "text/plain": [
       "array([['6/10/2017', '7/10/2017', '8/10/2017', '9/10/2017', '10/10/2017',\n",
       "        '11/10/2017', '12/10/2017', '13-10-2017', '14-10-2017',\n",
       "        '15-10-2017', '16-10-2017', '17-10-2017', '18-10-2017',\n",
       "        '19-10-2017', '20-10-2017', '21-10-2017', '22-10-2017',\n",
       "        '23-10-2017', '24-10-2017', '25-10-2017', '26-10-2017',\n",
       "        '27-10-2017', '28-10-2017', '29-10-2017', '30-10-2017',\n",
       "        '31-10-2017'],\n",
       "       ['5464', '7167', '9874', '4969', '8538', '9875', '4662', '6310',\n",
       "        '7556', '9073', '9690', '9146', '9752', '6974', '5619', '6889',\n",
       "        '8616', '9131', '4211', '4291', '8569', '9337', '8475', '4510',\n",
       "        '6347', '5911'],\n",
       "       ['200', '200', '300', '100', '300', '300', '100', '200', '200',\n",
       "        '300', '300', '300', '300', '200', '200', '200', '300', '300',\n",
       "        '100', '100', '300', '300', '300', '100', '200', '200'],\n",
       "       ['181', '208', '341', '190', '307', '302', '198', '201', '195',\n",
       "        '327', '331', '318', '344', '204', '180', '201', '329', '315',\n",
       "        '197', '184', '328', '322', '327', '148', '235', '184'],\n",
       "       ['6', '6', '5', '8', '5', '5', '8', '6', '6', '5', '5', '5', '5',\n",
       "        '6', '6', '6', '5', '5', '8', '8', '5', '5', '5', '8', '6', '6'],\n",
       "       ['0', '0', '0', '0', '0', '0', '0', '0', '0', '0', '0', '0', '0',\n",
       "        '0', '0', '0', '0', '0', '0', '0', '0', '0', '0', '0', '0', '0'],\n",
       "       ['68', '68', '68', '68', '68', '68', '68', '68', '68', '68', '68',\n",
       "        '68', '68', '68', '68', '68', '68', '68', '68', '68', '68', '68',\n",
       "        '68', '68', '68', '68']], dtype='<U10')"
      ]
     },
     "execution_count": 10,
     "metadata": {},
     "output_type": "execute_result"
    }
   ],
   "source": [
    "data.T"
   ]
  },
  {
   "cell_type": "code",
   "execution_count": 11,
   "id": "c0e0d933",
   "metadata": {},
   "outputs": [],
   "source": [
    "date ,step_count,mood,calories_burned,hours_of_sleep,bool_of_active,weight_kg = data.T\n"
   ]
  },
  {
   "cell_type": "code",
   "execution_count": 12,
   "id": "31d32d64",
   "metadata": {},
   "outputs": [
    {
     "data": {
      "text/plain": [
       "array(['6/10/2017', '7/10/2017', '8/10/2017', '9/10/2017', '10/10/2017',\n",
       "       '11/10/2017', '12/10/2017', '13-10-2017', '14-10-2017',\n",
       "       '15-10-2017', '16-10-2017', '17-10-2017', '18-10-2017',\n",
       "       '19-10-2017', '20-10-2017', '21-10-2017', '22-10-2017',\n",
       "       '23-10-2017', '24-10-2017', '25-10-2017', '26-10-2017',\n",
       "       '27-10-2017', '28-10-2017', '29-10-2017', '30-10-2017',\n",
       "       '31-10-2017'], dtype='<U10')"
      ]
     },
     "execution_count": 12,
     "metadata": {},
     "output_type": "execute_result"
    }
   ],
   "source": [
    "date"
   ]
  },
  {
   "cell_type": "code",
   "execution_count": 13,
   "id": "1895feb7",
   "metadata": {},
   "outputs": [
    {
     "data": {
      "text/plain": [
       "array(['5464', '7167', '9874', '4969', '8538', '9875', '4662', '6310',\n",
       "       '7556', '9073', '9690', '9146', '9752', '6974', '5619', '6889',\n",
       "       '8616', '9131', '4211', '4291', '8569', '9337', '8475', '4510',\n",
       "       '6347', '5911'], dtype='<U10')"
      ]
     },
     "execution_count": 13,
     "metadata": {},
     "output_type": "execute_result"
    }
   ],
   "source": [
    "step_count"
   ]
  },
  {
   "cell_type": "code",
   "execution_count": 14,
   "id": "0f8f32d7",
   "metadata": {},
   "outputs": [],
   "source": [
    "# changing the string data type to 'int'\n"
   ]
  },
  {
   "cell_type": "code",
   "execution_count": 15,
   "id": "47f85867",
   "metadata": {},
   "outputs": [
    {
     "data": {
      "text/plain": [
       "dtype('<U10')"
      ]
     },
     "execution_count": 15,
     "metadata": {},
     "output_type": "execute_result"
    }
   ],
   "source": [
    "step_count.dtype"
   ]
  },
  {
   "cell_type": "code",
   "execution_count": 16,
   "id": "75108cf5",
   "metadata": {},
   "outputs": [],
   "source": [
    "step_count=np.array(step_count,dtype='int')"
   ]
  },
  {
   "cell_type": "code",
   "execution_count": 17,
   "id": "581210f3",
   "metadata": {},
   "outputs": [],
   "source": [
    "calories_burned=np.array(calories_burned,dtype='int')"
   ]
  },
  {
   "cell_type": "code",
   "execution_count": 18,
   "id": "a263a563",
   "metadata": {},
   "outputs": [],
   "source": [
    "hours_of_sleep=np.array(hours_of_sleep,dtype='int')"
   ]
  },
  {
   "cell_type": "code",
   "execution_count": 19,
   "id": "6182512f",
   "metadata": {},
   "outputs": [],
   "source": [
    "weight_kg=np.array(weight_kg,dtype='int')"
   ]
  },
  {
   "cell_type": "code",
   "execution_count": 20,
   "id": "7a3eac73",
   "metadata": {},
   "outputs": [
    {
     "data": {
      "text/plain": [
       "array([5464, 7167, 9874, 4969, 8538, 9875, 4662, 6310, 7556, 9073, 9690,\n",
       "       9146, 9752, 6974, 5619, 6889, 8616, 9131, 4211, 4291, 8569, 9337,\n",
       "       8475, 4510, 6347, 5911])"
      ]
     },
     "execution_count": 20,
     "metadata": {},
     "output_type": "execute_result"
    }
   ],
   "source": [
    "step_count"
   ]
  },
  {
   "cell_type": "code",
   "execution_count": 21,
   "id": "cfef290b",
   "metadata": {},
   "outputs": [
    {
     "data": {
      "text/plain": [
       "array([181, 208, 341, 190, 307, 302, 198, 201, 195, 327, 331, 318, 344,\n",
       "       204, 180, 201, 329, 315, 197, 184, 328, 322, 327, 148, 235, 184])"
      ]
     },
     "execution_count": 21,
     "metadata": {},
     "output_type": "execute_result"
    }
   ],
   "source": [
    "calories_burned"
   ]
  },
  {
   "cell_type": "code",
   "execution_count": 22,
   "id": "fe757b88",
   "metadata": {},
   "outputs": [
    {
     "data": {
      "text/plain": [
       "array([6, 6, 5, 8, 5, 5, 8, 6, 6, 5, 5, 5, 5, 6, 6, 6, 5, 5, 8, 8, 5, 5,\n",
       "       5, 8, 6, 6])"
      ]
     },
     "execution_count": 22,
     "metadata": {},
     "output_type": "execute_result"
    }
   ],
   "source": [
    "hours_of_sleep"
   ]
  },
  {
   "cell_type": "code",
   "execution_count": 23,
   "id": "4192fcc1",
   "metadata": {},
   "outputs": [
    {
     "data": {
      "text/plain": [
       "array([68, 68, 68, 68, 68, 68, 68, 68, 68, 68, 68, 68, 68, 68, 68, 68, 68,\n",
       "       68, 68, 68, 68, 68, 68, 68, 68, 68])"
      ]
     },
     "execution_count": 23,
     "metadata": {},
     "output_type": "execute_result"
    }
   ],
   "source": [
    "weight_kg"
   ]
  },
  {
   "cell_type": "code",
   "execution_count": 24,
   "id": "f8a1154c",
   "metadata": {},
   "outputs": [
    {
     "data": {
      "text/plain": [
       "dtype('int32')"
      ]
     },
     "execution_count": 24,
     "metadata": {},
     "output_type": "execute_result"
    }
   ],
   "source": [
    "weight_kg.dtype"
   ]
  },
  {
   "cell_type": "code",
   "execution_count": 25,
   "id": "11688bf9",
   "metadata": {},
   "outputs": [
    {
     "data": {
      "text/plain": [
       "array(['200', '200', '300', '100', '300', '300', '100', '200', '200',\n",
       "       '300', '300', '300', '300', '200', '200', '200', '300', '300',\n",
       "       '100', '100', '300', '300', '300', '100', '200', '200'],\n",
       "      dtype='<U10')"
      ]
     },
     "execution_count": 25,
     "metadata": {},
     "output_type": "execute_result"
    }
   ],
   "source": [
    "mood"
   ]
  },
  {
   "cell_type": "code",
   "execution_count": 26,
   "id": "afbbd4a0",
   "metadata": {},
   "outputs": [
    {
     "data": {
      "text/plain": [
       "array(['100', '200', '300'], dtype='<U10')"
      ]
     },
     "execution_count": 26,
     "metadata": {},
     "output_type": "execute_result"
    }
   ],
   "source": [
    "np.unique(mood)  #this is not a numerical data but is a categorical data"
   ]
  },
  {
   "cell_type": "code",
   "execution_count": 27,
   "id": "9dfeea3f",
   "metadata": {},
   "outputs": [],
   "source": [
    "# 100 = sad\n",
    "# 200 =  neutral\n",
    "# 300 = happy\n"
   ]
  },
  {
   "cell_type": "code",
   "execution_count": 29,
   "id": "39ab9a55",
   "metadata": {},
   "outputs": [
    {
     "data": {
      "text/plain": [
       "array([False, False, False,  True, False, False,  True, False, False,\n",
       "       False, False, False, False, False, False, False, False, False,\n",
       "        True,  True, False, False, False,  True, False, False])"
      ]
     },
     "execution_count": 29,
     "metadata": {},
     "output_type": "execute_result"
    }
   ],
   "source": [
    "mood=='100'"
   ]
  },
  {
   "cell_type": "code",
   "execution_count": 30,
   "id": "95d797b8",
   "metadata": {},
   "outputs": [
    {
     "data": {
      "text/plain": [
       "array([ True,  True, False, False, False, False, False,  True,  True,\n",
       "       False, False, False, False,  True,  True,  True, False, False,\n",
       "       False, False, False, False, False, False,  True,  True])"
      ]
     },
     "execution_count": 30,
     "metadata": {},
     "output_type": "execute_result"
    }
   ],
   "source": [
    "mood=='200'"
   ]
  },
  {
   "cell_type": "code",
   "execution_count": 31,
   "id": "b2295e9b",
   "metadata": {},
   "outputs": [
    {
     "data": {
      "text/plain": [
       "array([False, False,  True, False,  True,  True, False, False, False,\n",
       "        True,  True,  True,  True, False, False, False,  True,  True,\n",
       "       False, False,  True,  True,  True, False, False, False])"
      ]
     },
     "execution_count": 31,
     "metadata": {},
     "output_type": "execute_result"
    }
   ],
   "source": [
    "mood=='300'"
   ]
  },
  {
   "cell_type": "code",
   "execution_count": 32,
   "id": "a66ff963",
   "metadata": {},
   "outputs": [],
   "source": [
    "mood[mood=='100']='Sad'\n",
    "mood[mood=='200']='Neutral'\n",
    "mood[mood=='300']='Happy'"
   ]
  },
  {
   "cell_type": "code",
   "execution_count": 33,
   "id": "b362c22e",
   "metadata": {},
   "outputs": [
    {
     "data": {
      "text/plain": [
       "array(['Neutral', 'Neutral', 'Happy', 'Sad', 'Happy', 'Happy', 'Sad',\n",
       "       'Neutral', 'Neutral', 'Happy', 'Happy', 'Happy', 'Happy',\n",
       "       'Neutral', 'Neutral', 'Neutral', 'Happy', 'Happy', 'Sad', 'Sad',\n",
       "       'Happy', 'Happy', 'Happy', 'Sad', 'Neutral', 'Neutral'],\n",
       "      dtype='<U10')"
      ]
     },
     "execution_count": 33,
     "metadata": {},
     "output_type": "execute_result"
    }
   ],
   "source": [
    "mood"
   ]
  },
  {
   "cell_type": "markdown",
   "id": "05d7de42",
   "metadata": {},
   "source": [
    "Data Analysing "
   ]
  },
  {
   "cell_type": "code",
   "execution_count": 34,
   "id": "7f4d54dc",
   "metadata": {},
   "outputs": [
    {
     "data": {
      "text/plain": [
       "array([['6/10/2017', '5464', 'Neutral', '181', '6', '0', '68'],\n",
       "       ['7/10/2017', '7167', 'Neutral', '208', '6', '0', '68'],\n",
       "       ['8/10/2017', '9874', 'Happy', '341', '5', '0', '68'],\n",
       "       ['9/10/2017', '4969', 'Sad', '190', '8', '0', '68'],\n",
       "       ['10/10/2017', '8538', 'Happy', '307', '5', '0', '68'],\n",
       "       ['11/10/2017', '9875', 'Happy', '302', '5', '0', '68'],\n",
       "       ['12/10/2017', '4662', 'Sad', '198', '8', '0', '68'],\n",
       "       ['13-10-2017', '6310', 'Neutral', '201', '6', '0', '68'],\n",
       "       ['14-10-2017', '7556', 'Neutral', '195', '6', '0', '68'],\n",
       "       ['15-10-2017', '9073', 'Happy', '327', '5', '0', '68'],\n",
       "       ['16-10-2017', '9690', 'Happy', '331', '5', '0', '68'],\n",
       "       ['17-10-2017', '9146', 'Happy', '318', '5', '0', '68'],\n",
       "       ['18-10-2017', '9752', 'Happy', '344', '5', '0', '68'],\n",
       "       ['19-10-2017', '6974', 'Neutral', '204', '6', '0', '68'],\n",
       "       ['20-10-2017', '5619', 'Neutral', '180', '6', '0', '68'],\n",
       "       ['21-10-2017', '6889', 'Neutral', '201', '6', '0', '68'],\n",
       "       ['22-10-2017', '8616', 'Happy', '329', '5', '0', '68'],\n",
       "       ['23-10-2017', '9131', 'Happy', '315', '5', '0', '68'],\n",
       "       ['24-10-2017', '4211', 'Sad', '197', '8', '0', '68'],\n",
       "       ['25-10-2017', '4291', 'Sad', '184', '8', '0', '68'],\n",
       "       ['26-10-2017', '8569', 'Happy', '328', '5', '0', '68'],\n",
       "       ['27-10-2017', '9337', 'Happy', '322', '5', '0', '68'],\n",
       "       ['28-10-2017', '8475', 'Happy', '327', '5', '0', '68'],\n",
       "       ['29-10-2017', '4510', 'Sad', '148', '8', '0', '68'],\n",
       "       ['30-10-2017', '6347', 'Neutral', '235', '6', '0', '68'],\n",
       "       ['31-10-2017', '5911', 'Neutral', '184', '6', '0', '68']],\n",
       "      dtype='<U10')"
      ]
     },
     "execution_count": 34,
     "metadata": {},
     "output_type": "execute_result"
    }
   ],
   "source": [
    "data"
   ]
  },
  {
   "cell_type": "code",
   "execution_count": 35,
   "id": "4d4316df",
   "metadata": {},
   "outputs": [],
   "source": [
    "# max steps count"
   ]
  },
  {
   "cell_type": "code",
   "execution_count": 36,
   "id": "47eb81a7",
   "metadata": {},
   "outputs": [
    {
     "data": {
      "text/plain": [
       "9875"
      ]
     },
     "execution_count": 36,
     "metadata": {},
     "output_type": "execute_result"
    }
   ],
   "source": [
    "np.max(step_count)"
   ]
  },
  {
   "cell_type": "code",
   "execution_count": 37,
   "id": "43cab1ed",
   "metadata": {},
   "outputs": [
    {
     "data": {
      "text/plain": [
       "7344.461538461538"
      ]
     },
     "execution_count": 37,
     "metadata": {},
     "output_type": "execute_result"
    }
   ],
   "source": [
    "np.average(step_count)"
   ]
  },
  {
   "cell_type": "code",
   "execution_count": 38,
   "id": "a9acf271",
   "metadata": {},
   "outputs": [
    {
     "data": {
      "text/plain": [
       "5"
      ]
     },
     "execution_count": 38,
     "metadata": {},
     "output_type": "execute_result"
    }
   ],
   "source": [
    "np.argmax(step_count)"
   ]
  },
  {
   "cell_type": "code",
   "execution_count": 39,
   "id": "4fcb2c6c",
   "metadata": {},
   "outputs": [],
   "source": [
    "    # data on which max steps done"
   ]
  },
  {
   "cell_type": "code",
   "execution_count": 40,
   "id": "08d00c8b",
   "metadata": {},
   "outputs": [
    {
     "data": {
      "text/plain": [
       "'11/10/2017'"
      ]
     },
     "execution_count": 40,
     "metadata": {},
     "output_type": "execute_result"
    }
   ],
   "source": [
    "date[5]"
   ]
  },
  {
   "cell_type": "code",
   "execution_count": 41,
   "id": "98671596",
   "metadata": {},
   "outputs": [],
   "source": [
    "# frequency of mood\n"
   ]
  },
  {
   "cell_type": "code",
   "execution_count": 42,
   "id": "eb3be906",
   "metadata": {},
   "outputs": [
    {
     "data": {
      "text/plain": [
       "5"
      ]
     },
     "execution_count": 42,
     "metadata": {},
     "output_type": "execute_result"
    }
   ],
   "source": [
    "len(mood[mood=='Sad'])"
   ]
  },
  {
   "cell_type": "code",
   "execution_count": 43,
   "id": "c1a79a67",
   "metadata": {},
   "outputs": [
    {
     "data": {
      "text/plain": [
       "9"
      ]
     },
     "execution_count": 43,
     "metadata": {},
     "output_type": "execute_result"
    }
   ],
   "source": [
    "len(mood[mood=='Neutral'])"
   ]
  },
  {
   "cell_type": "code",
   "execution_count": 44,
   "id": "f43b7456",
   "metadata": {},
   "outputs": [
    {
     "data": {
      "text/plain": [
       "12"
      ]
     },
     "execution_count": 44,
     "metadata": {},
     "output_type": "execute_result"
    }
   ],
   "source": [
    "len(mood[mood=='Happy'])"
   ]
  },
  {
   "cell_type": "code",
   "execution_count": 45,
   "id": "bb550e32",
   "metadata": {},
   "outputs": [
    {
     "data": {
      "text/plain": [
       "array(['Happy', 'Neutral', 'Sad'], dtype='<U10')"
      ]
     },
     "execution_count": 45,
     "metadata": {},
     "output_type": "execute_result"
    }
   ],
   "source": [
    "np.unique(mood)"
   ]
  },
  {
   "cell_type": "code",
   "execution_count": 46,
   "id": "a0604013",
   "metadata": {},
   "outputs": [
    {
     "data": {
      "text/plain": [
       "(array(['Happy', 'Neutral', 'Sad'], dtype='<U10'),\n",
       " array([12,  9,  5], dtype=int64))"
      ]
     },
     "execution_count": 46,
     "metadata": {},
     "output_type": "execute_result"
    }
   ],
   "source": [
    "np.unique(mood,return_counts=True)"
   ]
  },
  {
   "cell_type": "code",
   "execution_count": null,
   "id": "462c35a1",
   "metadata": {},
   "outputs": [],
   "source": []
  }
 ],
 "metadata": {
  "kernelspec": {
   "display_name": "Python 3 (ipykernel)",
   "language": "python",
   "name": "python3"
  },
  "language_info": {
   "codemirror_mode": {
    "name": "ipython",
    "version": 3
   },
   "file_extension": ".py",
   "mimetype": "text/x-python",
   "name": "python",
   "nbconvert_exporter": "python",
   "pygments_lexer": "ipython3",
   "version": "3.9.13"
  }
 },
 "nbformat": 4,
 "nbformat_minor": 5
}
