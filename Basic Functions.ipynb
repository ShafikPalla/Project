{
 "cells": [
  {
   "cell_type": "code",
   "execution_count": 1,
   "id": "514db280",
   "metadata": {},
   "outputs": [
    {
     "name": "stdout",
     "output_type": "stream",
     "text": [
      "******************\n"
     ]
    }
   ],
   "source": [
    "#How to define function\n",
    "\n",
    "def star():\n",
    "    print(\"******************\")\n",
    "    \n",
    "star()"
   ]
  },
  {
   "cell_type": "code",
   "execution_count": 2,
   "id": "745359e3",
   "metadata": {},
   "outputs": [
    {
     "name": "stdout",
     "output_type": "stream",
     "text": [
      "1400\n"
     ]
    }
   ],
   "source": [
    "#Define an adder\n",
    "#Add two numbers\n",
    "\n",
    "def adder(a,b):\n",
    "    print(a+b)\n",
    "    \n",
    "adder(500,900)"
   ]
  },
  {
   "cell_type": "code",
   "execution_count": 3,
   "id": "c0c68247",
   "metadata": {},
   "outputs": [
    {
     "name": "stdout",
     "output_type": "stream",
     "text": [
      "300\n"
     ]
    }
   ],
   "source": [
    "# Define Subtractor\n",
    "\n",
    "def sub(a,b):\n",
    "    print(a-b)\n",
    "    \n",
    "sub(500,200)"
   ]
  },
  {
   "cell_type": "code",
   "execution_count": 4,
   "id": "8c57334d",
   "metadata": {},
   "outputs": [
    {
     "name": "stdout",
     "output_type": "stream",
     "text": [
      "800\n"
     ]
    }
   ],
   "source": [
    "# add three numbers\n",
    "\n",
    "def adder(a,b,c):\n",
    "    print(a+b+c)\n",
    "    \n",
    "adder(100,200,500)"
   ]
  },
  {
   "cell_type": "code",
   "execution_count": 5,
   "id": "5117c22b",
   "metadata": {},
   "outputs": [
    {
     "name": "stdout",
     "output_type": "stream",
     "text": [
      "100\n"
     ]
    }
   ],
   "source": [
    "#HW\n",
    "# Write a function to multiply three integers\n",
    "\n",
    "def mul(a,b,c):\n",
    "    print(a*b*c)\n",
    "    \n",
    "mul(5,10,2)"
   ]
  },
  {
   "cell_type": "code",
   "execution_count": 14,
   "id": "7f0e8d71",
   "metadata": {},
   "outputs": [
    {
     "name": "stdout",
     "output_type": "stream",
     "text": [
      "16\n",
      "16.666666666666668\n",
      "16\n"
     ]
    }
   ],
   "source": [
    "# Write a function to divide two numbers\n",
    "\n",
    "def div(a,b):\n",
    "    print(a//b)\n",
    "    \n",
    "div(50,3)\n",
    "\n",
    "def div_1(a,b):\n",
    "    print(a/b)\n",
    "    \n",
    "div_1(50,3)\n",
    "\n",
    "def div_2(a,b):\n",
    "    print(int(a/b))\n",
    "    \n",
    "div_2(50,3)"
   ]
  },
  {
   "cell_type": "code",
   "execution_count": 17,
   "id": "579bf34f",
   "metadata": {},
   "outputs": [
    {
     "name": "stdout",
     "output_type": "stream",
     "text": [
      "INDIA\n",
      "BURHAN\n"
     ]
    }
   ],
   "source": [
    "# Write a function to make string uppercase\n",
    "\n",
    "def upp(a):\n",
    "    print(a.upper())\n",
    "    \n",
    "upp(\"india\")\n",
    "upp(\"burhan\")"
   ]
  },
  {
   "cell_type": "code",
   "execution_count": 18,
   "id": "da64f97e",
   "metadata": {},
   "outputs": [
    {
     "name": "stdout",
     "output_type": "stream",
     "text": [
      "Body Guard\n"
     ]
    }
   ],
   "source": [
    "# write function to make title case\n",
    "\n",
    "def Tit(a):\n",
    "    print(a.title())\n",
    "    \n",
    "Tit(\"body guard\")"
   ]
  },
  {
   "cell_type": "code",
   "execution_count": null,
   "id": "ffd209c2",
   "metadata": {},
   "outputs": [],
   "source": []
  }
 ],
 "metadata": {
  "kernelspec": {
   "display_name": "Python 3 (ipykernel)",
   "language": "python",
   "name": "python3"
  },
  "language_info": {
   "codemirror_mode": {
    "name": "ipython",
    "version": 3
   },
   "file_extension": ".py",
   "mimetype": "text/x-python",
   "name": "python",
   "nbconvert_exporter": "python",
   "pygments_lexer": "ipython3",
   "version": "3.9.13"
  }
 },
 "nbformat": 4,
 "nbformat_minor": 5
}
