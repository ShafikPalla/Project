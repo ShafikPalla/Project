{
 "cells": [
  {
   "cell_type": "code",
   "execution_count": 11,
   "id": "b8407101",
   "metadata": {},
   "outputs": [
    {
     "name": "stdout",
     "output_type": "stream",
     "text": [
      "[[2, 4, 6, 8, 10, 12], [2, 4, 6, 8, 10, 12], [2, 4, 6, 8, 10, 12], [2, 4, 6, 8, 10, 12], [2, 4, 6, 8, 10, 12], [2, 4, 6, 8, 10, 12]]\n"
     ]
    }
   ],
   "source": [
    "a=[1,2,3,4,5,6]\n",
    "\n",
    "def f(x):\n",
    "    q=[]\n",
    "    for i in a:\n",
    "        q.append(i*2)\n",
    "    return q\n",
    "    \n",
    "\n",
    "\n",
    "e=list(map(f,a))\n",
    "print(e)\n",
    "        "
   ]
  },
  {
   "cell_type": "code",
   "execution_count": 12,
   "id": "2e64ceb7",
   "metadata": {},
   "outputs": [
    {
     "name": "stdout",
     "output_type": "stream",
     "text": [
      "[2, 4, 6, 8, 10, 12]\n"
     ]
    }
   ],
   "source": [
    "c=list(map(lambda x:2*x,a))\n",
    "\n",
    "print(c)"
   ]
  },
  {
   "cell_type": "code",
   "execution_count": 13,
   "id": "f92d5e12",
   "metadata": {},
   "outputs": [
    {
     "name": "stdout",
     "output_type": "stream",
     "text": [
      "[5, 6, 6]\n"
     ]
    }
   ],
   "source": [
    "def l(s):\n",
    "    return len(s)\n",
    "\n",
    "r=list(map(l,['apple','Banana','Orange']))\n",
    "\n",
    "print(r)"
   ]
  },
  {
   "cell_type": "code",
   "execution_count": 15,
   "id": "700cfc99",
   "metadata": {},
   "outputs": [
    {
     "name": "stdout",
     "output_type": "stream",
     "text": [
      "['Raju Mane', 'Asif Mulani', 'Narendra Thakur']\n"
     ]
    }
   ],
   "source": [
    "def name(fn,ln):\n",
    "    return fn+\" \"+ln\n",
    "\n",
    "qq=list(map(name,['Raju','Asif','Narendra'],['Mane','Mulani','Thakur']))\n",
    "\n",
    "                    \n",
    "print(qq)"
   ]
  },
  {
   "cell_type": "raw",
   "id": "e6a237b7",
   "metadata": {},
   "source": [
    "#Filter\n",
    "\n",
    "a=[1,2,3,4,5]\n",
    "\n",
    "def odd(a):\n",
    "    if (a%2==1):\n",
    "        return b\n",
    "        \n",
    "t=list(filter(odd,a))\n",
    "print(t)"
   ]
  },
  {
   "cell_type": "code",
   "execution_count": 17,
   "id": "f3c9dc8f",
   "metadata": {},
   "outputs": [
    {
     "name": "stdout",
     "output_type": "stream",
     "text": [
      "[1, 3, 5]\n"
     ]
    }
   ],
   "source": [
    "a=[1,2,3,4,5]\n",
    "\n",
    "def odd(a):\n",
    "    if(a%2==1):\n",
    "        return a\n",
    "    \n",
    "t=list(filter(odd,a))\n",
    "print(t)"
   ]
  },
  {
   "cell_type": "code",
   "execution_count": 18,
   "id": "180dc9b0",
   "metadata": {},
   "outputs": [
    {
     "name": "stdout",
     "output_type": "stream",
     "text": [
      "6\n"
     ]
    }
   ],
   "source": [
    "def fun(s):\n",
    "    return len(s)\n",
    "\n",
    "print(fun(\"Monday\"))"
   ]
  },
  {
   "cell_type": "code",
   "execution_count": 21,
   "id": "49449d7b",
   "metadata": {},
   "outputs": [
    {
     "name": "stdout",
     "output_type": "stream",
     "text": [
      "6\n",
      "MondaySunday\n"
     ]
    }
   ],
   "source": [
    "fun2=fun\n",
    "\n",
    "print(fun2(\"Sunday\"))\n",
    "\n",
    "print(\"Monday\"+\"Sunday\")"
   ]
  },
  {
   "cell_type": "code",
   "execution_count": 22,
   "id": "a5c082e1",
   "metadata": {},
   "outputs": [
    {
     "name": "stdout",
     "output_type": "stream",
     "text": [
      "This is a new functionMONDAY\n"
     ]
    }
   ],
   "source": [
    "def f(s):\n",
    "    return s.upper()\n",
    "\n",
    "def d(f,s):\n",
    "    return 'This is a new function'+f(s)\n",
    "\n",
    "qq=d(f,'monday')\n",
    "print(qq)"
   ]
  },
  {
   "cell_type": "code",
   "execution_count": 23,
   "id": "136a5252",
   "metadata": {},
   "outputs": [
    {
     "name": "stdout",
     "output_type": "stream",
     "text": [
      "Sunday\n"
     ]
    }
   ],
   "source": [
    "def title(s):\n",
    "    return s.title()\n",
    "\n",
    "def make_title(a,b):\n",
    "    return a(b)\n",
    "\n",
    "print(make_title(title,'sunday'))"
   ]
  },
  {
   "cell_type": "code",
   "execution_count": null,
   "id": "7b259616",
   "metadata": {},
   "outputs": [],
   "source": []
  }
 ],
 "metadata": {
  "kernelspec": {
   "display_name": "Python 3 (ipykernel)",
   "language": "python",
   "name": "python3"
  },
  "language_info": {
   "codemirror_mode": {
    "name": "ipython",
    "version": 3
   },
   "file_extension": ".py",
   "mimetype": "text/x-python",
   "name": "python",
   "nbconvert_exporter": "python",
   "pygments_lexer": "ipython3",
   "version": "3.9.13"
  }
 },
 "nbformat": 4,
 "nbformat_minor": 5
}
