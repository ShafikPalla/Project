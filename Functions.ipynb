{
 "cells": [
  {
   "cell_type": "code",
   "execution_count": 30,
   "id": "be140d43",
   "metadata": {},
   "outputs": [
    {
     "name": "stdout",
     "output_type": "stream",
     "text": [
      "30\n",
      "750\n",
      "85\n"
     ]
    }
   ],
   "source": [
    "def find_max(*args):\n",
    "    max_value = 0\n",
    "    for number in args:\n",
    "        if number > max_value:\n",
    "            max_value = number\n",
    "    print(max_value)\n",
    "        \n",
    "find_max(20,30,10)\n",
    "find_max(85,100,20,500,750,2,8,90)\n",
    "find_max(52,76,85,20,30)"
   ]
  },
  {
   "cell_type": "code",
   "execution_count": 36,
   "id": "0276134d",
   "metadata": {},
   "outputs": [
    {
     "name": "stdout",
     "output_type": "stream",
     "text": [
      "50\n",
      "90\n"
     ]
    }
   ],
   "source": [
    "def find_max(*args):\n",
    "    max_value = 0\n",
    "    for number in args:\n",
    "        if number > max_value:\n",
    "            max_value = number\n",
    "    print(max_value)\n",
    "        \n",
    "find_max(10,50,3,7,9)\n",
    "find_max(50,75,10,20,80,90,45)"
   ]
  },
  {
   "cell_type": "code",
   "execution_count": 41,
   "id": "aca72e49",
   "metadata": {},
   "outputs": [
    {
     "name": "stdout",
     "output_type": "stream",
     "text": [
      "50\n"
     ]
    }
   ],
   "source": [
    "ans=lambda a,b :a+b\n",
    "    \n",
    "print(ans(20,30))"
   ]
  },
  {
   "cell_type": "code",
   "execution_count": 42,
   "id": "8307c112",
   "metadata": {},
   "outputs": [
    {
     "name": "stdout",
     "output_type": "stream",
     "text": [
      "40\n"
     ]
    }
   ],
   "source": [
    "cal=lambda a,b,c : a+b-c\n",
    "\n",
    "print(cal(50,20,30))"
   ]
  },
  {
   "cell_type": "code",
   "execution_count": 44,
   "id": "ccbfb83a",
   "metadata": {},
   "outputs": [
    {
     "name": "stdout",
     "output_type": "stream",
     "text": [
      "Odd Number\n",
      "Even Number\n"
     ]
    }
   ],
   "source": [
    "num= lambda number : \"Even Number\" if number%2==0 else \"Odd Number\"\n",
    "\n",
    "print(num(47))\n",
    "print(num(80))"
   ]
  },
  {
   "cell_type": "code",
   "execution_count": 47,
   "id": "86e5eea7",
   "metadata": {},
   "outputs": [
    {
     "name": "stdout",
     "output_type": "stream",
     "text": [
      "[24, 94, 174, 82, 156, 94]\n",
      "[40, 80, 100, 50, 60]\n"
     ]
    }
   ],
   "source": [
    "#MAP()\n",
    "list_num=[12,47,87,41,78,47]\n",
    "def double_num(x):\n",
    "    ans=[]\n",
    "    for i in x:\n",
    "        ans.append(2*i)\n",
    "    print(ans)\n",
    "double_num(list_num)\n",
    "double_num([20,40,50,25,30])"
   ]
  },
  {
   "cell_type": "code",
   "execution_count": 51,
   "id": "ac91b2c7",
   "metadata": {},
   "outputs": [
    {
     "data": {
      "text/plain": [
       "[24, 94, 174, 82, 156, 94]"
      ]
     },
     "execution_count": 51,
     "metadata": {},
     "output_type": "execute_result"
    }
   ],
   "source": [
    "list(map(lambda x : 2*x,list_num))\n"
   ]
  },
  {
   "cell_type": "code",
   "execution_count": 52,
   "id": "48bd7aa6",
   "metadata": {},
   "outputs": [
    {
     "data": {
      "text/plain": [
       "[36, 141, 261, 123, 234, 141]"
      ]
     },
     "execution_count": 52,
     "metadata": {},
     "output_type": "execute_result"
    }
   ],
   "source": [
    "list(map(lambda x: 3*x, list_num))"
   ]
  },
  {
   "cell_type": "code",
   "execution_count": 53,
   "id": "be1cbafa",
   "metadata": {},
   "outputs": [
    {
     "name": "stdout",
     "output_type": "stream",
     "text": [
      "[12, 78]\n"
     ]
    }
   ],
   "source": [
    "list_score=[12,47,87,41,78,47]\n",
    "\n",
    "def even_num(x):\n",
    "    ans=[]\n",
    "    for i in x:\n",
    "        if i%2 == 0:\n",
    "            ans.append(i)\n",
    "    print(ans)\n",
    "even_num(list_score)\n",
    "    "
   ]
  },
  {
   "cell_type": "code",
   "execution_count": 67,
   "id": "aeac9c43",
   "metadata": {},
   "outputs": [
    {
     "ename": "TypeError",
     "evalue": "unsupported operand type(s) for %: 'list' and 'int'",
     "output_type": "error",
     "traceback": [
      "\u001b[1;31m---------------------------------------------------------------------------\u001b[0m",
      "\u001b[1;31mTypeError\u001b[0m                                 Traceback (most recent call last)",
      "\u001b[1;32m~\\AppData\\Local\\Temp\\ipykernel_10060\\98316122.py\u001b[0m in \u001b[0;36m<module>\u001b[1;34m\u001b[0m\n\u001b[0;32m      3\u001b[0m     \u001b[1;32mif\u001b[0m \u001b[0ms\u001b[0m\u001b[1;33m%\u001b[0m\u001b[1;36m2\u001b[0m\u001b[1;33m==\u001b[0m\u001b[1;36m0\u001b[0m\u001b[1;33m:\u001b[0m\u001b[1;33m\u001b[0m\u001b[1;33m\u001b[0m\u001b[0m\n\u001b[0;32m      4\u001b[0m         \u001b[1;32mreturn\u001b[0m \u001b[0ms\u001b[0m\u001b[1;33m\u001b[0m\u001b[1;33m\u001b[0m\u001b[0m\n\u001b[1;32m----> 5\u001b[1;33m \u001b[0mlist\u001b[0m\u001b[1;33m(\u001b[0m\u001b[0mfilter\u001b[0m\u001b[1;33m(\u001b[0m\u001b[0meven_ans\u001b[0m\u001b[1;33m(\u001b[0m\u001b[1;33m[\u001b[0m\u001b[0mlist_score\u001b[0m\u001b[1;33m]\u001b[0m\u001b[1;33m)\u001b[0m\u001b[1;33m)\u001b[0m\u001b[1;33m)\u001b[0m\u001b[1;33m\u001b[0m\u001b[1;33m\u001b[0m\u001b[0m\n\u001b[0m",
      "\u001b[1;32m~\\AppData\\Local\\Temp\\ipykernel_10060\\98316122.py\u001b[0m in \u001b[0;36meven_ans\u001b[1;34m(s)\u001b[0m\n\u001b[0;32m      1\u001b[0m \u001b[0mlist_score\u001b[0m\u001b[1;33m=\u001b[0m\u001b[1;33m[\u001b[0m\u001b[1;36m12\u001b[0m\u001b[1;33m,\u001b[0m\u001b[1;36m47\u001b[0m\u001b[1;33m,\u001b[0m\u001b[1;36m87\u001b[0m\u001b[1;33m,\u001b[0m\u001b[1;36m41\u001b[0m\u001b[1;33m,\u001b[0m\u001b[1;36m78\u001b[0m\u001b[1;33m,\u001b[0m\u001b[1;36m47\u001b[0m\u001b[1;33m]\u001b[0m\u001b[1;33m\u001b[0m\u001b[1;33m\u001b[0m\u001b[0m\n\u001b[0;32m      2\u001b[0m \u001b[1;32mdef\u001b[0m \u001b[0meven_ans\u001b[0m\u001b[1;33m(\u001b[0m\u001b[0ms\u001b[0m\u001b[1;33m)\u001b[0m\u001b[1;33m:\u001b[0m\u001b[1;33m\u001b[0m\u001b[1;33m\u001b[0m\u001b[0m\n\u001b[1;32m----> 3\u001b[1;33m     \u001b[1;32mif\u001b[0m \u001b[0ms\u001b[0m\u001b[1;33m%\u001b[0m\u001b[1;36m2\u001b[0m\u001b[1;33m==\u001b[0m\u001b[1;36m0\u001b[0m\u001b[1;33m:\u001b[0m\u001b[1;33m\u001b[0m\u001b[1;33m\u001b[0m\u001b[0m\n\u001b[0m\u001b[0;32m      4\u001b[0m         \u001b[1;32mreturn\u001b[0m \u001b[0ms\u001b[0m\u001b[1;33m\u001b[0m\u001b[1;33m\u001b[0m\u001b[0m\n\u001b[0;32m      5\u001b[0m \u001b[0mlist\u001b[0m\u001b[1;33m(\u001b[0m\u001b[0mfilter\u001b[0m\u001b[1;33m(\u001b[0m\u001b[0meven_ans\u001b[0m\u001b[1;33m(\u001b[0m\u001b[1;33m[\u001b[0m\u001b[0mlist_score\u001b[0m\u001b[1;33m]\u001b[0m\u001b[1;33m)\u001b[0m\u001b[1;33m)\u001b[0m\u001b[1;33m)\u001b[0m\u001b[1;33m\u001b[0m\u001b[1;33m\u001b[0m\u001b[0m\n",
      "\u001b[1;31mTypeError\u001b[0m: unsupported operand type(s) for %: 'list' and 'int'"
     ]
    }
   ],
   "source": [
    "list_score=[12,47,87,41,78,47]\n",
    "def even_ans(s):\n",
    "    if s%2==0:\n",
    "        return s\n",
    "list(filter(even_ans([list_score])))"
   ]
  },
  {
   "cell_type": "code",
   "execution_count": 64,
   "id": "9ee1326e",
   "metadata": {},
   "outputs": [
    {
     "ename": "SyntaxError",
     "evalue": "unexpected EOF while parsing (1724670336.py, line 8)",
     "output_type": "error",
     "traceback": [
      "\u001b[1;36m  File \u001b[1;32m\"C:\\Users\\User\\AppData\\Local\\Temp\\ipykernel_10060\\1724670336.py\"\u001b[1;36m, line \u001b[1;32m8\u001b[0m\n\u001b[1;33m    list(filter(even_ans,list_score)\u001b[0m\n\u001b[1;37m                                    ^\u001b[0m\n\u001b[1;31mSyntaxError\u001b[0m\u001b[1;31m:\u001b[0m unexpected EOF while parsing\n"
     ]
    }
   ],
   "source": [
    "list_score = [12,47,87,41,78,47]\n",
    "def even_ans(s):\n",
    "    if s%2 ==0:\n",
    "        return s\n",
    "    \n",
    "    \n",
    "# filter(function,iterable)\n",
    "list(filter(even_ans,list_score)"
   ]
  },
  {
   "cell_type": "code",
   "execution_count": null,
   "id": "62945b00",
   "metadata": {},
   "outputs": [],
   "source": []
  }
 ],
 "metadata": {
  "kernelspec": {
   "display_name": "Python 3 (ipykernel)",
   "language": "python",
   "name": "python3"
  },
  "language_info": {
   "codemirror_mode": {
    "name": "ipython",
    "version": 3
   },
   "file_extension": ".py",
   "mimetype": "text/x-python",
   "name": "python",
   "nbconvert_exporter": "python",
   "pygments_lexer": "ipython3",
   "version": "3.9.13"
  }
 },
 "nbformat": 4,
 "nbformat_minor": 5
}
