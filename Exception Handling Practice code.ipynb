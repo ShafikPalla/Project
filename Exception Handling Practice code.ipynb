{
 "cells": [
  {
   "cell_type": "code",
   "execution_count": 6,
   "id": "91c72759",
   "metadata": {},
   "outputs": [
    {
     "name": "stdout",
     "output_type": "stream",
     "text": [
      "0.5\n",
      "This is last line\n",
      "E\n"
     ]
    }
   ],
   "source": [
    "#Exception Handling\n",
    "\n",
    "\n",
    "a=100\n",
    "b=200\n",
    "#b=0\n",
    "c=a/b\n",
    "\n",
    "print(c)\n",
    "\n",
    "print(\"This is last line\")\n",
    "\n",
    "name=\"SURESH\"\n",
    "\n",
    "print(name[3])\n",
    "\n",
    "#print(name[9])"
   ]
  },
  {
   "cell_type": "code",
   "execution_count": 5,
   "id": "491b6efd",
   "metadata": {},
   "outputs": [
    {
     "name": "stdout",
     "output_type": "stream",
     "text": [
      "E\n"
     ]
    }
   ],
   "source": [
    "''' # try:\n",
    "#        code trial\n",
    "# except:\n",
    " #   Statement'''"
   ]
  },
  {
   "cell_type": "code",
   "execution_count": 11,
   "id": "d37b3c91",
   "metadata": {},
   "outputs": [
    {
     "name": "stdout",
     "output_type": "stream",
     "text": [
      "Something went wrong. You have entered b=0 ! correct the value\n",
      "0.3333333333333333\n",
      "This is the lastl ine\n"
     ]
    }
   ],
   "source": [
    "#eg 1\n",
    "\n",
    "a=100\n",
    "\n",
    "try:\n",
    "    b=0\n",
    "    c=a/b\n",
    "    print(c)\n",
    "except:\n",
    "    print(\"Something went wrong. You have entered b=0 ! correct the value\")\n",
    "print(c)\n",
    "print(\"This is the lastl ine\")\n"
   ]
  },
  {
   "cell_type": "code",
   "execution_count": 14,
   "id": "bebc530a",
   "metadata": {},
   "outputs": [
    {
     "name": "stdout",
     "output_type": "stream",
     "text": [
      "Choose proper range, max is 5\n",
      "this is the lastt line\n"
     ]
    }
   ],
   "source": [
    "#eg2\n",
    "\n",
    "name=\"Suresh\"\n",
    "\n",
    "try:\n",
    "    print(name[9])\n",
    "except:\n",
    "    print(\"Choose proper range, max is 5\")\n",
    "print(\"this is the lastt line\")"
   ]
  },
  {
   "cell_type": "code",
   "execution_count": 18,
   "id": "da582582",
   "metadata": {},
   "outputs": [
    {
     "name": "stdout",
     "output_type": "stream",
     "text": [
      "10.0\n",
      "some error occue string index out of range\n"
     ]
    }
   ],
   "source": [
    "#eg3\n",
    "\n",
    "a=100\n",
    "\n",
    "name=\"MAYUR\"\n",
    "\n",
    "try:\n",
    "    b=10\n",
    "    c=a/b\n",
    "    print(c)\n",
    "    print(name[11])\n",
    "#ececpt exception as error\n",
    "except Exception as e:\n",
    "    print(\"some error occue\",e)"
   ]
  },
  {
   "cell_type": "code",
   "execution_count": 21,
   "id": "288abdee",
   "metadata": {},
   "outputs": [
    {
     "name": "stdout",
     "output_type": "stream",
     "text": [
      "10.0\n",
      "Some error occure string index out of range\n"
     ]
    }
   ],
   "source": [
    "#eg4\n",
    "\n",
    "a=100\n",
    "name=\"MAYUR\"\n",
    "try:\n",
    "    b=10\n",
    "    c=a/b\n",
    "    print(c)\n",
    "    print(name[8])\n",
    "#except exception as error\n",
    "except ZeroDivisionError as e:\n",
    "    print(\"some error occue\",e)\n",
    "except IndexError as f:\n",
    "    print(\"Some error occure\", f)\n",
    "\n",
    "    "
   ]
  },
  {
   "cell_type": "code",
   "execution_count": 23,
   "id": "d183fb20",
   "metadata": {},
   "outputs": [
    {
     "name": "stdout",
     "output_type": "stream",
     "text": [
      "some error occur division by zero\n",
      "This will always be executed\n"
     ]
    }
   ],
   "source": [
    "a=100\n",
    "name=\"MAYUR\"\n",
    "\n",
    "try:\n",
    "    b=0\n",
    "    c=a/b\n",
    "    print(c)\n",
    "    print(name[9])\n",
    "    #except exception as error\n",
    "except ZeroDivisionError as e:\n",
    "    print(\"some error occur\",e)\n",
    "except IndexError as f:\n",
    "    print(\"Some error occure\", f)\n",
    "else:# only get executed , if there is no error in the code\n",
    "    print(\"All codes executed succsessfully\")\n",
    "finally:# in all cases, This will get executed\n",
    "    print(\"This will always be executed\")\n",
    "    "
   ]
  },
  {
   "cell_type": "code",
   "execution_count": null,
   "id": "badfc38a",
   "metadata": {},
   "outputs": [],
   "source": []
  }
 ],
 "metadata": {
  "kernelspec": {
   "display_name": "Python 3 (ipykernel)",
   "language": "python",
   "name": "python3"
  },
  "language_info": {
   "codemirror_mode": {
    "name": "ipython",
    "version": 3
   },
   "file_extension": ".py",
   "mimetype": "text/x-python",
   "name": "python",
   "nbconvert_exporter": "python",
   "pygments_lexer": "ipython3",
   "version": "3.9.13"
  }
 },
 "nbformat": 4,
 "nbformat_minor": 5
}
