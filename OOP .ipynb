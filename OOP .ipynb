{
 "cells": [
  {
   "cell_type": "code",
   "execution_count": 2,
   "id": "69c8f426",
   "metadata": {},
   "outputs": [
    {
     "name": "stdout",
     "output_type": "stream",
     "text": [
      "<class '__main__.Student'>\n"
     ]
    }
   ],
   "source": [
    "class Student:\n",
    "    pass\n",
    "\n",
    "s1=Student()\n",
    "print(type(s1))"
   ]
  },
  {
   "cell_type": "code",
   "execution_count": 10,
   "id": "34b91512",
   "metadata": {},
   "outputs": [
    {
     "name": "stdout",
     "output_type": "stream",
     "text": [
      "Burhan\n",
      "2\n"
     ]
    }
   ],
   "source": [
    "class Student:\n",
    "    def __init__ (self,name,age):\n",
    "        self.name= name\n",
    "        self.age= age\n",
    "s2=Student(\"Burhan\",2)\n",
    "print(s2.name)\n",
    "print(s2.age)"
   ]
  },
  {
   "cell_type": "code",
   "execution_count": 15,
   "id": "6a8a01d9",
   "metadata": {},
   "outputs": [
    {
     "name": "stdout",
     "output_type": "stream",
     "text": [
      "BMW\n",
      "2023\n",
      "Red\n"
     ]
    }
   ],
   "source": [
    "class Car:\n",
    "    def __init__ (self,brand,model,colour):\n",
    "        self.brand = brand\n",
    "        self.model = model\n",
    "        self.colour = colour\n",
    "    \n",
    "C1=Car(\"BMW\",2023,\"Red\")\n",
    "print(C1.brand)\n",
    "print(C1.model)\n",
    "print(C1.colour)\n"
   ]
  },
  {
   "cell_type": "code",
   "execution_count": 19,
   "id": "53e84ca1",
   "metadata": {},
   "outputs": [
    {
     "name": "stdout",
     "output_type": "stream",
     "text": [
      "Audi\n",
      "2022\n",
      "Blue\n",
      "Gray\n"
     ]
    }
   ],
   "source": [
    "C2=Car(\"Audi\",2022,\"Blue\")\n",
    "\n",
    "print(C2.brand)\n",
    "print(C2.model)\n",
    "print(C2.colour)\n",
    "C2.colour=\"Gray\"\n",
    "print(C2.colour)"
   ]
  },
  {
   "cell_type": "code",
   "execution_count": 21,
   "id": "8eca1c1e",
   "metadata": {},
   "outputs": [
    {
     "name": "stdout",
     "output_type": "stream",
     "text": [
      "Zakwan\n",
      "107\n",
      "Pune\n"
     ]
    }
   ],
   "source": [
    "class Student:\n",
    "    def __init__ (self,name,roll,place):\n",
    "        self.name = name\n",
    "        self.roll = roll\n",
    "        self.place = place\n",
    "    def __str__(self):\n",
    "        return \"The name of student is: {} roll no is : {} live in : {}\".format(self.name,self.roll,self.place)\n",
    "\n",
    "s4=Student(\"Zakwan\",107,\"Pune\")\n",
    "\n",
    "print(s4.name)\n",
    "print(s4.roll)\n",
    "print(s4.place)\n"
   ]
  },
  {
   "cell_type": "code",
   "execution_count": 22,
   "id": "105363ab",
   "metadata": {},
   "outputs": [
    {
     "name": "stdout",
     "output_type": "stream",
     "text": [
      "The name of student is :Shahid and roll no is :1\n"
     ]
    }
   ],
   "source": [
    "class Student:\n",
    "    counter = 0\n",
    "    def __init__(self,name):\n",
    "        self.name = name\n",
    "        Student.counter = Student.counter+1\n",
    "        self.roll= Student.counter\n",
    "    def __str__(self):\n",
    "        return \"The name of student is :{} and roll no is :{}\".format(self.name,self.roll)\n",
    "s1=Student(\"Shahid\")\n",
    "print(s1)"
   ]
  },
  {
   "cell_type": "code",
   "execution_count": 23,
   "id": "5ec3f558",
   "metadata": {},
   "outputs": [
    {
     "name": "stdout",
     "output_type": "stream",
     "text": [
      "The name of student is :Zahid and roll no is :2\n"
     ]
    }
   ],
   "source": [
    "s2=Student(\"Zahid\")\n",
    "print(s2)"
   ]
  },
  {
   "cell_type": "code",
   "execution_count": 24,
   "id": "d2c483af",
   "metadata": {},
   "outputs": [
    {
     "name": "stdout",
     "output_type": "stream",
     "text": [
      "The name of student is :Tabrez and roll no is :3\n"
     ]
    }
   ],
   "source": [
    "s3=Student(\"Tabrez\")\n",
    "print(s3)"
   ]
  },
  {
   "cell_type": "code",
   "execution_count": null,
   "id": "7ba0d99f",
   "metadata": {},
   "outputs": [],
   "source": []
  }
 ],
 "metadata": {
  "kernelspec": {
   "display_name": "Python 3 (ipykernel)",
   "language": "python",
   "name": "python3"
  },
  "language_info": {
   "codemirror_mode": {
    "name": "ipython",
    "version": 3
   },
   "file_extension": ".py",
   "mimetype": "text/x-python",
   "name": "python",
   "nbconvert_exporter": "python",
   "pygments_lexer": "ipython3",
   "version": "3.9.13"
  }
 },
 "nbformat": 4,
 "nbformat_minor": 5
}
